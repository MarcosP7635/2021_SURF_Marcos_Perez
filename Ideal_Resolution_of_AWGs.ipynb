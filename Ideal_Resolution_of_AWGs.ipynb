{
  "nbformat": 4,
  "nbformat_minor": 0,
  "metadata": {
    "colab": {
      "name": "Ideal Resolution of AWGs",
      "provenance": [],
      "collapsed_sections": [],
      "include_colab_link": true
    },
    "kernelspec": {
      "name": "python3",
      "display_name": "Python 3"
    },
    "language_info": {
      "name": "python"
    }
  },
  "cells": [
    {
      "cell_type": "markdown",
      "metadata": {
        "id": "view-in-github",
        "colab_type": "text"
      },
      "source": [
        "<a href=\"https://colab.research.google.com/github/MarcosP7635/2021_SURF_Marcos_Perez/blob/main/Ideal_Resolution_of_AWGs.ipynb\" target=\"_parent\"><img src=\"https://colab.research.google.com/assets/colab-badge.svg\" alt=\"Open In Colab\"/></a>"
      ]
    },
    {
      "cell_type": "code",
      "execution_count": null,
      "metadata": {
        "colab": {
          "base_uri": "https://localhost:8080/"
        },
        "id": "pkxTqwfQ5Pkw",
        "outputId": "0ec26d7f-2c06-49bc-cd60-8cedb2b4fc16"
      },
      "outputs": [
        {
          "output_type": "stream",
          "name": "stdout",
          "text": [
            "z =  0.51034811 \n",
            "ew =  1.3431538548368889 \n",
            "beta parameter =  1.1289926395814749\n",
            "R =  1138.9111788082698\n"
          ]
        }
      ],
      "source": [
        "#P Gatkine and M Perez using https://doi.org/10.1017/pasa.2013.26\n",
        "#keep track of units! \n",
        "#convert to nm before the end!\n",
        "'''\n",
        "Use location and amplitude of first bump after the main peak. \n",
        "For a sinc^2, what is the location and amplitude of the nearest local maximum \n",
        "to the central peak? This can let us avoid doing a fit for the sake of time (at\n",
        "the moment)\n",
        "gamma is defined here on page 4 \n",
        "https://drive.google.com/file/d/1ps__DfEB5RQSU5UOXhKs03CtL56AhQTc/view?usp=sharing\n",
        "Roughly, 4.2 channels, 20 FSR \n",
        "4.2 * 20 / 13 =  6.46153846 nm which gives gamma = 4.05 nm\n",
        "gamma = .8859 / peak\n",
        "'''\n",
        "FWHMlsf = gamma = 1.1899 #nm https://www.overleaf.com/read/xjcmyghbqqtm fig 3\n",
        "z = gamma * .4289 \n",
        "ew = gamma / .8859\n",
        "beta = 1.3809 * (z**(1 /3)) * (ew**(2/3)) / FWHMlsf\n",
        "print(\"z = \", z, \"\\new = \", ew, \"\\nbeta parameter = \", beta)\n",
        "wavelength = 1530.0 #nm\n",
        "R = wavelength / (beta * FWHMlsf) \n",
        "print(\"R = \", R)\n"
      ]
    },
    {
      "cell_type": "code",
      "source": [
        "'''\n",
        "Now to redo it assuming a Gaussian LSF instead of a sinc^2\n",
        "'''\n",
        "import math\n",
        "FWHMlsf = gamma = 1.1899 #nm https://www.overleaf.com/read/xjcmyghbqqtm fig 3\n",
        "sigma = FWHMlsf / (2*math.sqrt(2 * math.log(2)))\n",
        "z = 2 * sigma / math.sqrt(math.pi)\n",
        "ew = sigma * math.sqrt(2 * math.pi)\n",
        "beta = 1.3809 * (z**(1 /3)) * (ew**(2/3)) / FWHMlsf\n",
        "print(\"z = \", z, \"\\new = \", ew, \"\\nbeta parameter = \", beta)\n",
        "wavelength = 1530.0 #nm\n",
        "R = wavelength / (beta * FWHMlsf) \n",
        "print(\"R = \", R)"
      ],
      "metadata": {
        "colab": {
          "base_uri": "https://localhost:8080/"
        },
        "id": "SXY3yj1WCjXs",
        "outputId": "b3352e22-f878-45bf-c3cd-73dbe3991605"
      },
      "execution_count": null,
      "outputs": [
        {
          "output_type": "stream",
          "name": "stdout",
          "text": [
            "z =  0.5701745123837283 \n",
            "ew =  1.266609306421216 \n",
            "beta parameter =  1.1265474308745114\n",
            "R =  1141.383223441773\n"
          ]
        }
      ]
    },
    {
      "cell_type": "code",
      "source": [
        "math.log(math.e) #log is base e"
      ],
      "metadata": {
        "colab": {
          "base_uri": "https://localhost:8080/"
        },
        "id": "IFuxLW4_DJzC",
        "outputId": "1c715445-b9f4-4dbf-d226-5e8515311d30"
      },
      "execution_count": null,
      "outputs": [
        {
          "output_type": "execute_result",
          "data": {
            "text/plain": [
              "1.0"
            ]
          },
          "metadata": {},
          "execution_count": 10
        }
      ]
    },
    {
      "cell_type": "code",
      "source": [
        "'''\n",
        "Now to redo for the continuous AWG assuming a Gaussian LSF\n",
        "'''\n",
        "import math\n",
        "FWHMlsf = gamma = 1.0623 #nm https://www.overleaf.com/read/xjcmyghbqqtm fig 5\n",
        "sigma = FWHMlsf / (2*math.sqrt(2 * math.log(2)))\n",
        "z = 2 * sigma / math.sqrt(math.pi)\n",
        "ew = sigma * math.sqrt(2 * math.pi)\n",
        "beta = 1.3809 * (z**(1 /3)) * (ew**(2/3)) / FWHMlsf\n",
        "print(\"z = \", z, \"\\new = \", ew, \"\\nbeta parameter = \", beta)\n",
        "wavelength = 1530.0 #nm\n",
        "R = wavelength / (beta * FWHMlsf) \n",
        "print(\"R = \", R)"
      ],
      "metadata": {
        "id": "iClPopcB9-r2",
        "colab": {
          "base_uri": "https://localhost:8080/"
        },
        "outputId": "d2abe90c-6881-479f-d6e3-cc84d8eebb0c"
      },
      "execution_count": 12,
      "outputs": [
        {
          "output_type": "stream",
          "name": "stdout",
          "text": [
            "z =  0.5090313341501257 \n",
            "ew =  1.1307833147417914 \n",
            "beta parameter =  1.1265474308745111\n",
            "R =  1278.4824414697975\n"
          ]
        }
      ]
    },
    {
      "cell_type": "code",
      "source": [
        "'''\n",
        "Now to redo it assuming a sinc^2 LSF instead of gaussian for the continuous AWG\n",
        "'''\n",
        "FWHMlsf = gamma = 1.0623 #nm https://www.overleaf.com/read/xjcmyghbqqtm fig 5\n",
        "z = gamma * .4289 \n",
        "ew = gamma / .8859\n",
        "beta = 1.3809 * (z**(1 /3)) * (ew**(2/3)) / FWHMlsf\n",
        "print(\"z = \", z, \"\\new = \", ew, \"\\nbeta parameter = \", beta)\n",
        "wavelength = 1530.0 #nm\n",
        "R = wavelength / (beta * FWHMlsf) \n",
        "print(\"R = \", R)"
      ],
      "metadata": {
        "colab": {
          "base_uri": "https://localhost:8080/"
        },
        "id": "bQnb1rDNDkaL",
        "outputId": "46cf1a33-67d0-4f7c-b510-94c898f00467"
      },
      "execution_count": 14,
      "outputs": [
        {
          "output_type": "stream",
          "name": "stdout",
          "text": [
            "z =  0.45562047 \n",
            "ew =  1.1991195394514054 \n",
            "beta parameter =  1.1289926395814749\n",
            "R =  1275.7134629238071\n"
          ]
        }
      ]
    },
    {
      "cell_type": "code",
      "source": [
        ""
      ],
      "metadata": {
        "id": "5ph6qJyiD_Il"
      },
      "execution_count": null,
      "outputs": []
    }
  ]
}